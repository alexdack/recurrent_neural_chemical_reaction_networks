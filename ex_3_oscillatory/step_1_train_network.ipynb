{
 "cells": [
  {
   "cell_type": "code",
   "execution_count": null,
   "id": "1817971c",
   "metadata": {},
   "outputs": [],
   "source": [
    "import numpy as np\n",
    "import tensorflow as tf\n",
    "import scipy.io\n",
    "from keras import backend as K\n",
    "from keras.layers import Activation\n",
    "from tensorflow.keras.utils import get_custom_objects\n",
    "from scipy.special import jv"
   ]
  },
  {
   "cell_type": "code",
   "execution_count": null,
   "id": "513f0294",
   "metadata": {},
   "outputs": [],
   "source": [
    "# define the filename to save the weights of the model as a .mat\n",
    "filename = 'models/oscillatory'\n",
    "\n",
    "# define the interval of the domain for the visible dynamics\n",
    "lower_limit = 0.1\n",
    "upper_limit = 12\n",
    "\n",
    "step_size = 0.001;\n",
    "\n",
    "# define the approximate size the small offset parameter in the smooth ReLU\n",
    "gamma = 1\n",
    "\n",
    "# define the approximate size the feedback offset parameter in the feedback motif\n",
    "beta_1_and_2 = 1\n",
    "\n",
    "# define the number of hidden species in a single hidden layer\n",
    "N = 6\n",
    "\n",
    "# define the number of epochs to use in training the model\n",
    "number_of_epochs = 2"
   ]
  },
  {
   "cell_type": "code",
   "execution_count": null,
   "id": "d3f0e882",
   "metadata": {},
   "outputs": [],
   "source": [
    "# define the custom activation function for the training with particular values of the relu_offset\n",
    "def smooth_max_activation(x):\n",
    "    return 0.5*(x + K.sqrt(K.square(x)+4*gamma))\n",
    "\n",
    "get_custom_objects().update({'smooth_max_activation': Activation(smooth_max_activation)})\n",
    "\n",
    "#define data\n",
    "x1_train = np.arange(lower_limit, upper_limit, step_size, dtype=\"float32\")\n",
    "x2_train = np.arange(lower_limit, upper_limit, step_size, dtype=\"float32\")\n",
    "\n",
    "x1v, x2v = np.meshgrid(x1_train, x2_train, indexing='ij')\n",
    "nx1 = len(x1_train)\n",
    "nx2 = len(x2_train)\n",
    "\n",
    "g_1 = 6+4*jv(0, 1.5*x1v)-x2v;\n",
    "g_2 =  x1v - 4;\n",
    "\n",
    "y1_train = (g_1 - beta_1_and_2)/x1v\n",
    "y2_train = (g_2 - beta_1_and_2)/x2v\n",
    "\n",
    "x_train = np.append(x1v.reshape(-1,1), x2v.reshape(-1,1),axis=1)\n",
    "y_train = np.append(y1_train.reshape(-1,1), y2_train.reshape(-1,1),axis=1)\n"
   ]
  },
  {
   "cell_type": "code",
   "execution_count": null,
   "id": "2e066083",
   "metadata": {},
   "outputs": [],
   "source": [
    "# define a neural network model that corresponds to the asymptotic neural subsytem \n",
    "model = tf.keras.models.Sequential([\n",
    "  tf.keras.layers.Flatten(input_shape=(2,), name=''),\n",
    "  tf.keras.layers.Dense(N, activation='smooth_max_activation'),\n",
    "  tf.keras.layers.Dense(2, activation=None, use_bias=False),\n",
    "])\n",
    "\n",
    "# compile model with optimizer and choice of loss function\n",
    "model.compile(optimizer='adam',\n",
    "              loss='mse',\n",
    "              metrics=['mse'])"
   ]
  },
  {
   "cell_type": "code",
   "execution_count": null,
   "id": "b67b44c2",
   "metadata": {},
   "outputs": [],
   "source": [
    "# train the neural network model to replicate x_train -> y_train\n",
    "model.fit(x_train, y_train, epochs=number_of_epochs, validation_split = 0.1)"
   ]
  },
  {
   "cell_type": "code",
   "execution_count": null,
   "id": "0e743e5b",
   "metadata": {},
   "outputs": [],
   "source": [
    "# view the model structure, each 'Param' corresponds to at least one rate of reaction in the chemical system\n",
    "model.summary()\n",
    "\n",
    "# save the weights of this neural network for use in ODE simulations in MATLAB\n",
    "first_layer_weights = model.layers[1].get_weights()[0]\n",
    "first_layer_biases = model.layers[1].get_weights()[1]\n",
    "output_layer_weights = model.layers[2].get_weights()[0]"
   ]
  },
  {
   "cell_type": "code",
   "execution_count": null,
   "id": "c7f08cbd",
   "metadata": {},
   "outputs": [],
   "source": [
    "scipy.io.savemat(filename+'.mat', {'first_layer_weights':first_layer_weights, \n",
    "                                   'first_layer_biases':first_layer_biases, \n",
    "                                   'output_layer_weights':output_layer_weights,\n",
    "                                   'gamma': gamma,\n",
    "                                   'betas': beta_1_and_2,\n",
    "                                  })"
   ]
  },
  {
   "cell_type": "code",
   "execution_count": null,
   "id": "6139e56e",
   "metadata": {},
   "outputs": [],
   "source": []
  }
 ],
 "metadata": {
  "kernelspec": {
   "display_name": "Python 3 (ipykernel)",
   "language": "python",
   "name": "python3"
  },
  "language_info": {
   "codemirror_mode": {
    "name": "ipython",
    "version": 3
   },
   "file_extension": ".py",
   "mimetype": "text/x-python",
   "name": "python",
   "nbconvert_exporter": "python",
   "pygments_lexer": "ipython3",
   "version": "3.10.12"
  }
 },
 "nbformat": 4,
 "nbformat_minor": 5
}

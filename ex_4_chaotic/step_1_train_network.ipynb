{
 "cells": [
  {
   "cell_type": "code",
   "execution_count": null,
   "id": "4d3b3bef",
   "metadata": {},
   "outputs": [],
   "source": [
    "import numpy as np\n",
    "import tensorflow as tf\n",
    "import scipy.io\n",
    "from keras import backend as K\n",
    "from keras.layers import Activation\n",
    "from tensorflow.keras.utils import get_custom_objects"
   ]
  },
  {
   "cell_type": "code",
   "execution_count": null,
   "id": "63df636d",
   "metadata": {},
   "outputs": [],
   "source": [
    "# define the filename to save the weights of the model as a .mat\n",
    "filename = 'models/hast_pow'\n",
    "\n",
    "# define the interval of the domain for the visible dynamics\n",
    "lower_limit_1 = 0.01\n",
    "lower_limit_2 = 0.01\n",
    "lower_limit_3 = 0.01\n",
    "\n",
    "upper_limit_1 = 1\n",
    "upper_limit_2 = 1\n",
    "upper_limit_3 = 1\n",
    "\n",
    "m1 = upper_limit_1-lower_limit_1 + upper_limit_2-lower_limit_2 + upper_limit_3-lower_limit_3;\n",
    "\n",
    "step = 0.01;\n",
    "#step = 0.025;\n",
    "step_size_1 = step*(upper_limit_1-lower_limit_1)/m1\n",
    "step_size_2 = step*(upper_limit_2-lower_limit_2)/m1\n",
    "step_size_3 = step*(upper_limit_3-lower_limit_3)/m1\n",
    "\n",
    "# define gamma parameter\n",
    "gamma = 1\n",
    "\n",
    "# define the beta parameters\n",
    "beta1 = 0;\n",
    "beta2 = 0;\n",
    "beta3 = 0;\n",
    "\n",
    "# define the number of hidden species in a single hidden layer\n",
    "N = 5\n",
    "\n",
    "# define the number of epochs to use in training the model\n",
    "number_of_epochs = 40"
   ]
  },
  {
   "cell_type": "code",
   "execution_count": null,
   "id": "cd0619b5",
   "metadata": {},
   "outputs": [],
   "source": [
    "# define the custom activation function for the training with particular values of the relu_offset\n",
    "def smooth_max_activation(x):\n",
    "    return 0.5*(x + K.sqrt(K.square(x)+4*gamma))\n",
    "\n",
    "get_custom_objects().update({'smooth_max_activation': Activation(smooth_max_activation)})\n",
    "\n",
    "#define data\n",
    "x1_train = np.arange(lower_limit_1, upper_limit_1, step_size_1, dtype=\"float32\")\n",
    "x2_train = np.arange(lower_limit_2, upper_limit_2, step_size_2, dtype=\"float32\")\n",
    "x3_train = np.arange(lower_limit_3, upper_limit_3, step_size_3, dtype=\"float32\")\n",
    "\n",
    "x1v, x2v, x3v = np.meshgrid(x1_train, x2_train, x3_train, indexing='ij')\n",
    "nx1 = len(x1_train)\n",
    "nx2 = len(x2_train)\n",
    "nx3 = len(x2_train)\n",
    "\n",
    "r= 2.5;\n",
    "k=1.5;\n",
    "a1 = 4.0;\n",
    "a2 = 4.0;\n",
    "b1 = 3.0;\n",
    "b2 = 3.0;\n",
    "d1 = 0.4;\n",
    "d2 = 0.6;\n",
    "\n",
    "\n",
    "f1 = a1*(x1v/(1+b1*x1v));\n",
    "f2 = a2*x2v/(1+b2*x2v);\n",
    "\n",
    "\n",
    "g_1 = r*x1v*(1-k*x1v) -f1*x2v\n",
    "g_2 = -d1*x2v+f1*x2v-f2*x3v\n",
    "g_3 = -d2*x3v+ f2*x3v\n",
    "\n",
    "y1_train = (g_1 - beta1)/x1v\n",
    "y2_train = (g_2 - beta2)/x2v\n",
    "y3_train = (g_3 - beta3)/x3v\n",
    "\n",
    "\n",
    "\n",
    "x_train = np.append(np.append(x1v.reshape(-1,1), x2v.reshape(-1,1),axis=1), x3v.reshape(-1,1),axis=1)\n",
    "y_train = np.append(np.append(y1_train.reshape(-1,1), y2_train.reshape(-1,1),axis=1),y3_train.reshape(-1,1) , axis=1)\n",
    "\n",
    "# define a neural network model that corresponds to the asymptotic neural subsytem \n",
    "model = tf.keras.models.Sequential([\n",
    "  tf.keras.layers.Flatten(input_shape=(3,), name=''),\n",
    "  tf.keras.layers.Dense(N, activation='smooth_max_activation'),\n",
    "  tf.keras.layers.Dense(3, activation=None, use_bias=False),\n",
    "])\n",
    "\n",
    "# compile model with optimizer and choice of loss function\n",
    "model.compile(optimizer='adam',\n",
    "              loss='mse',\n",
    "              metrics=['mse'])"
   ]
  },
  {
   "cell_type": "code",
   "execution_count": null,
   "id": "3924eb79",
   "metadata": {},
   "outputs": [],
   "source": [
    "# train the neural network model to replicate x_train -> y_train\n",
    "model.fit(x_train, y_train, epochs=number_of_epochs, validation_split = 0.1)"
   ]
  },
  {
   "cell_type": "code",
   "execution_count": null,
   "id": "032b3ea1",
   "metadata": {},
   "outputs": [],
   "source": [
    "# view the model structure, each 'Param' corresponds to at least one rate of reaction in the chemical system\n",
    "model.summary()\n",
    "\n",
    "# save the weights of this neural network for use in ODE simulations in MATLAB\n",
    "first_layer_weights = model.layers[1].get_weights()[0]\n",
    "first_layer_biases = model.layers[1].get_weights()[1]\n",
    "output_layer_weights = model.layers[2].get_weights()[0]\n"
   ]
  },
  {
   "cell_type": "code",
   "execution_count": null,
   "id": "a686b483",
   "metadata": {},
   "outputs": [],
   "source": [
    "scipy.io.savemat(filename+'.mat', {'first_layer_weights':first_layer_weights, 'first_layer_biases':first_layer_biases, 'output_layer_weights':output_layer_weights})"
   ]
  },
  {
   "cell_type": "code",
   "execution_count": null,
   "id": "ae459523",
   "metadata": {},
   "outputs": [],
   "source": []
  }
 ],
 "metadata": {
  "kernelspec": {
   "display_name": "Python 3 (ipykernel)",
   "language": "python",
   "name": "python3"
  },
  "language_info": {
   "codemirror_mode": {
    "name": "ipython",
    "version": 3
   },
   "file_extension": ".py",
   "mimetype": "text/x-python",
   "name": "python",
   "nbconvert_exporter": "python",
   "pygments_lexer": "ipython3",
   "version": "3.10.12"
  }
 },
 "nbformat": 4,
 "nbformat_minor": 5
}

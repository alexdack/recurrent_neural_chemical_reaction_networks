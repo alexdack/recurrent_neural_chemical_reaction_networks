{
 "cells": [
  {
   "cell_type": "code",
   "execution_count": null,
   "id": "4d3b3bef",
   "metadata": {},
   "outputs": [],
   "source": [
    "import numpy as np\n",
    "import tensorflow as tf\n",
    "import scipy.io\n",
    "from keras import backend as K\n",
    "from keras.layers import Activation\n",
    "from tensorflow.keras.utils import get_custom_objects"
   ]
  },
  {
   "cell_type": "code",
   "execution_count": null,
   "id": "63df636d",
   "metadata": {},
   "outputs": [],
   "source": [
    "# define the filename to save the weights of the model as a .mat\n",
    "filename = 'models/sin_tri_stable'\n",
    "\n",
    "# define the interval of the domain for the visible dynamics\n",
    "lower_limit = 1\n",
    "upper_limit = 18\n",
    "step_size = 0.0001\n",
    "\n",
    "# define the offset parameter in the smooth ReLU\n",
    "gamma = 1\n",
    "\n",
    "# define the feedback offset parameter in the feedback motif\n",
    "beta_1 = 0\n",
    "\n",
    "# define the number of additional species in a single layer\n",
    "N = 4\n",
    "\n",
    "# define the number of epochs to use in training the model\n",
    "number_of_epochs = 2"
   ]
  },
  {
   "cell_type": "code",
   "execution_count": null,
   "id": "cd0619b5",
   "metadata": {},
   "outputs": [],
   "source": [
    "# define the custom activation function for the training with particular values of the relu_offset\n",
    "def smooth_max_activation(x):\n",
    "    return 0.5*(x + K.sqrt(K.square(x)+4*gamma))\n",
    "\n",
    "get_custom_objects().update({'smooth_max_activation': Activation(smooth_max_activation)})\n",
    "\n",
    "# initialize the range of visible molecular concentrations over the desired interval\n",
    "x_train = np.arange(lower_limit, upper_limit, step_size, dtype=\"float32\")\n",
    "\n",
    "# define the desired function of the visible dynamics\n",
    "f_x = np.sin(x_train)\n",
    "\n",
    "# map the desired function of the visible dynamics onto the function learnt by the neural subsystem\n",
    "y_train = (f_x - beta_1) /x_train\n",
    "\n",
    "# define a neural network model that corresponds to the asymptotic neural subsytem \n",
    "model = tf.keras.models.Sequential([\n",
    "  tf.keras.layers.Flatten(input_shape=(1,), name=''),\n",
    "  tf.keras.layers.Dense(N, activation='smooth_max_activation'),\n",
    "  tf.keras.layers.Dense(1, activation=None, use_bias=False),\n",
    "])\n",
    "\n",
    "# compile model with optimizer and choice of loss function\n",
    "model.compile(optimizer='adam',\n",
    "              loss='mse',\n",
    "              metrics=['mse'])"
   ]
  },
  {
   "cell_type": "code",
   "execution_count": null,
   "id": "3924eb79",
   "metadata": {},
   "outputs": [],
   "source": [
    "# train the neural network model to replicate x_train -> y_train\n",
    "model.fit(x_train, y_train, epochs=number_of_epochs, validation_split = 0.1)"
   ]
  },
  {
   "cell_type": "code",
   "execution_count": null,
   "id": "032b3ea1",
   "metadata": {},
   "outputs": [],
   "source": [
    "# view the model structure, each 'Param' corresponds to at least one rate of reaction in the chemical system\n",
    "model.summary()\n",
    "\n",
    "# save the weights of this neural network for use in ODE simulations in MATLAB\n",
    "first_layer_weights = model.layers[1].get_weights()[0]\n",
    "first_layer_biases = model.layers[1].get_weights()[1]\n",
    "output_layer_weights = model.layers[2].get_weights()[0]\n"
   ]
  },
  {
   "cell_type": "code",
   "execution_count": null,
   "id": "42d3a5c9",
   "metadata": {},
   "outputs": [],
   "source": [
    "scipy.io.savemat(filename+'.mat', {'first_layer_weights':first_layer_weights, 'first_layer_biases':first_layer_biases, 'output_layer_weights':output_layer_weights})"
   ]
  },
  {
   "cell_type": "code",
   "execution_count": null,
   "id": "e783f9f6",
   "metadata": {},
   "outputs": [],
   "source": []
  }
 ],
 "metadata": {
  "kernelspec": {
   "display_name": "Python 3 (ipykernel)",
   "language": "python",
   "name": "python3"
  },
  "language_info": {
   "codemirror_mode": {
    "name": "ipython",
    "version": 3
   },
   "file_extension": ".py",
   "mimetype": "text/x-python",
   "name": "python",
   "nbconvert_exporter": "python",
   "pygments_lexer": "ipython3",
   "version": "3.10.12"
  }
 },
 "nbformat": 4,
 "nbformat_minor": 5
}
